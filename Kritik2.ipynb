{
 "cells": [
  {
   "cell_type": "code",
   "execution_count": 2,
   "id": "13fa0f52-65f6-4249-8b34-35264f9f90fd",
   "metadata": {},
   "outputs": [
    {
     "name": "stdout",
     "output_type": "stream",
     "text": [
      "0.2698741375\n",
      "0\n",
      "3.1415926536\n",
      "There are no roots in the interval [a,b].\n"
     ]
    },
    {
     "name": "stderr",
     "output_type": "stream",
     "text": [
      "/tmp/ipykernel_779/1629089789.py:27: RuntimeWarning: divide by zero encountered in log\n",
      "  return np.exp(x) + np.log(x)\n"
     ]
    }
   ],
   "source": [
    "import numpy as np\n",
    "\n",
    "def roots(f, a, b): # f = function whose roots I'm trying to find, a = left endpoint, b = right endpoint\n",
    "    tol = 10**-10 # tolerence level, how small interval [a,b] should be before 'm' can be considered a good approximation of the root\n",
    "    while abs(a-b) > 10**-10: # stopping condition, loop will keep going if interval greater than 10^-10\n",
    "        m = ((b+a)/2) # m = midpoint\n",
    "# checking for a sign change over interval [a,b], if function crosses x-axis then there is a root at that value (no estimation)\n",
    "        if f(a)<=0<=f(b) or f(b)<=0<=f(a):\n",
    "            if f(a) == 0: # if f(x)=0 then that value of x is a root.\n",
    "                return a\n",
    "            elif f(b) == 0:\n",
    "                return b\n",
    "            elif f(m) == 0: # m becomes a new endpoint ([a,m] and [m,b])\n",
    "                return m\n",
    "# should we go down the [a,m] or [m,b] 'path'? Looking for which subinterval crosses the x-axis\n",
    "            if (f(a)<=0<=f(m)) or (f(m)<=0<=f(a)):\n",
    "                b = m # if [a,m] crosses the x-axis, then m becomes the new right endpoint (ie 'b') and loop restarts\n",
    "            elif (f(m)<=0<=f(b)) or (f(b)<=0<=f(m)):\n",
    "                a = m\n",
    "# if function does not cross x-axis and the distance between the intervals is less than 10^-10, there are no roots.\n",
    "        else:\n",
    "            return \"There are no roots in the interval [a,b].\"\n",
    "    return round(m, 10) # answer rounded to 10 decimal places\n",
    "# looking at each function and outputting the root of the function on the indicated interval\n",
    "\n",
    "def f(x):\n",
    "    return np.exp(x) + np.log(x)\n",
    "print(roots(f, 0, 1)) # x-value where function f(x) crosses the x-axis over [0,1]\n",
    "\n",
    "def g(x):\n",
    "    return np.arctan(x) - (x)**2\n",
    "print(roots(g, 0, 2)) # x-value where function g(x) crosses the x-axis over [0,2]\n",
    "\n",
    "def h(x):\n",
    "    return np.sin(x)/np.log(x)\n",
    "print(roots(h, 3, 4)) # x-value where function h(x) crosses the x-axis over [3,4]\n",
    "\n",
    "def i(x):\n",
    "    return np.log(np.cos(x))\n",
    "print(roots(i, 5, 7)) # x-value where function i(x) crosses the x-axis over [5,7]"
   ]
  },
  {
   "cell_type": "code",
   "execution_count": null,
   "id": "decda06d-8323-4e5d-9815-5c37ba9cb5f0",
   "metadata": {},
   "outputs": [],
   "source": []
  }
 ],
 "metadata": {
  "kernelspec": {
   "display_name": "Python 3 (ipykernel)",
   "language": "python",
   "name": "python3"
  },
  "language_info": {
   "codemirror_mode": {
    "name": "ipython",
    "version": 3
   },
   "file_extension": ".py",
   "mimetype": "text/x-python",
   "name": "python",
   "nbconvert_exporter": "python",
   "pygments_lexer": "ipython3",
   "version": "3.12.8"
  }
 },
 "nbformat": 4,
 "nbformat_minor": 5
}
