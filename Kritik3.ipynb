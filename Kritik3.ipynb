{
  "nbformat": 4,
  "nbformat_minor": 0,
  "metadata": {
    "colab": {
      "provenance": []
    },
    "kernelspec": {
      "name": "python3",
      "display_name": "Python 3"
    },
    "language_info": {
      "name": "python"
    }
  },
  "cells": [
    {
      "cell_type": "markdown",
      "source": [
        "Question #3:"
      ],
      "metadata": {
        "id": "4cJTLriYpndY"
      }
    },
    {
      "cell_type": "code",
      "source": [
        "import numpy as np\n",
        "\n",
        "#Insert desired function, c-value, and error below. I have chosen the sine function (test case ii) from the assignment as an example:\n",
        "f = lambda x: np.sin(x)\n",
        "c = np.pi/4\n",
        "E = 0.05\n",
        "\n",
        "delta_x = 10**-8\n",
        "\n",
        "def central_difference_derivative(x):\n",
        "  return (f(c+delta_x) - f(c-delta_x))/(2*delta_x)\n",
        "\n",
        "def linear_approximation(x):\n",
        "  return f(c) + central_difference_derivative(c)*(x-c)\n",
        "\n",
        "def absolute_error(x):\n",
        "  return abs(f(x)-linear_approximation) - E\n",
        "\n",
        "#start with x1 and x2 near c\n",
        "x1 = c - delta_x\n",
        "x2 = c + delta_x\n",
        "\n",
        "#find x1 < c\n",
        "if abs(f(x1) - linear_approximation(x1)) < E or abs(f(x1) - linear_approximation(x1)) > E:\n",
        "  x1 -= delta_x\n",
        "  print(f\"x1 = {x1}\")\n",
        "else:\n",
        "  print(\"Could not find x1 in range.\")\n",
        "\n",
        "#find x2 > c\n",
        "if abs(f(x2) - linear_approximation(x2)) < E or abs(f(x2) - linear_approximation(x2)) > E:\n",
        "  x2 += delta_x\n",
        "  print(f\"x2 = {x2}\")\n",
        "else:\n",
        "  print(\"Could not find x2 in range.\")\n",
        "\n",
        "print(\"The approximation error is \" + str(E))"
      ],
      "metadata": {
        "colab": {
          "base_uri": "https://localhost:8080/"
        },
        "id": "PFRR1-3dm3je",
        "outputId": "7862dc6e-1d7e-4cd5-d183-06ac90e8f717"
      },
      "execution_count": 31,
      "outputs": [
        {
          "output_type": "stream",
          "name": "stdout",
          "text": [
            "x1 = 0.7853981433974482\n",
            "x2 = 0.7853981833974484\n",
            "The approximation error is 0.05\n"
          ]
        }
      ]
    }
  ]
}