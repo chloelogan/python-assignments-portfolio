{
 "cells": [
  {
   "cell_type": "code",
   "execution_count": 15,
   "id": "0252a211-77e9-4a7d-9860-125669acae99",
   "metadata": {},
   "outputs": [],
   "source": [
    "import numpy as np\n",
    "from scipy.special import gamma\n",
    "\n",
    "def probability_function(my_list : float):\n",
    "    sample_mean = sum(my_list)/len(my_list)\n",
    "\n",
    "    all_x_vals = []\n",
    "    for i in my_list: \n",
    "        x_vals = (i - sample_mean)**2\n",
    "        all_x_vals.append(x_vals)\n",
    "\n",
    "        std_dev = np.sqrt(((1/(len(my_list)-1))) * np.sum(all_x_vals))\n",
    "        \n",
    "    return sample_mean, std_dev\n"
   ]
  },
  {
   "cell_type": "code",
   "execution_count": 3,
   "id": "d5ad842e-2cf8-47c6-a1eb-f5d6d3834181",
   "metadata": {},
   "outputs": [],
   "source": [
    "def finding_t0(sample_mean, population_mean, std_dev, my_list):\n",
    "    t0 = (sample_mean - population_mean)/(std_dev / np.sqrt(len(my_list)))\n",
    "    return t0"
   ]
  },
  {
   "cell_type": "code",
   "execution_count": 10,
   "id": "30661e70-18f7-4798-8cc3-668f6df70d99",
   "metadata": {},
   "outputs": [],
   "source": [
    "def t_distribution_pdf(x : float, nu : int):\n",
    "\n",
    "    coeff = gamma((nu + 1) / 2) / (np.sqrt(nu * np.pi) * gamma(nu / 2))\n",
    "    density = coeff * (1 + x**2 / nu) ** (-0.5 * (nu + 1))\n",
    "   \n",
    "    return density\n",
    "\n",
    "def find_t_star(prob : float, nu : int, x_start :float = 0, x_end : float = 20, num_points=10000):\n",
    "    # Define the x values\n",
    "    x = np.linspace(x_start, x_end, num_points)\n",
    "   \n",
    "    # Apply the density function to the x values\n",
    "    y = t_distribution_pdf(x, nu)\n",
    "   \n",
    "    # This next line is the integration (exercise: why does this work?)\n",
    "    cdf = np.cumsum(y) * (x[1] - x[0])\n",
    "    \n",
    "    # Find the t-value where the cumulative probability reaches half of the required probability\n",
    "    target_half_prob = prob / 2\n",
    "    index = np.where(cdf >= target_half_prob)[0][0]\n",
    "    \n",
    "    return x[index]\n"
   ]
  },
  {
   "cell_type": "code",
   "execution_count": 16,
   "id": "ec74e440-3270-4ef0-b1a6-85bf1bdc40f0",
   "metadata": {},
   "outputs": [
    {
     "name": "stdout",
     "output_type": "stream",
     "text": [
      "The sample mean is 82.382\n",
      "The standard deviation is 10.193467189005581\n",
      "t0 is 2.290087686017293\n",
      "t_star is 2.2522252225222523\n"
     ]
    }
   ],
   "source": [
    "#Insert any list, probability and expected mean\n",
    "my_list = [92.64,79.00,84.79,97.41,93.68,65.23,84.50,73.49,73.97,79.11]\n",
    "nu = len(my_list) - 1 \n",
    "prob = 0.95\n",
    "population_mean = 75\n",
    "\n",
    "#Code to call on functions\n",
    "sample_mean, std_dev = probability_function(my_list)\n",
    "print(f\"The sample mean is {sample_mean}\")\n",
    "print(f\"The standard deviation is {std_dev}\")\n",
    "\n",
    "t0 = finding_t0(sample_mean, population_mean, std_dev, my_list)\n",
    "print(f\"t0 is {t0}\")\n",
    "\n",
    "t_star = find_t_star(prob, nu, x_start=0, x_end=20, num_points=10000)\n",
    "print(f\"t_star is {t_star}\")"
   ]
  },
  {
   "cell_type": "code",
   "execution_count": 17,
   "id": "bb8a0d18-b34e-40e8-b164-2fbed24bcc07",
   "metadata": {},
   "outputs": [
    {
     "name": "stdout",
     "output_type": "stream",
     "text": [
      "t0 is in the range of [-t_star, t_star]: False\n"
     ]
    }
   ],
   "source": [
    "def comparing_t0_tstar():\n",
    "    if -t_star <= t0 <= t_star:\n",
    "        print(\"t0 is in the range of [-t_star, t_star]:\", True)\n",
    "    else:\n",
    "        print(\"t0 is in the range of [-t_star, t_star]:\", False) \n",
    "\n",
    "comparing_t0_tstar()"
   ]
  },
  {
   "cell_type": "code",
   "execution_count": null,
   "id": "5783b183-a935-41e6-a888-6817cab2c5ec",
   "metadata": {},
   "outputs": [],
   "source": [
    "#Because t0 is not in the range of [-t_star, t_star], there is statistical evidence to reject the null hypothesis. \n",
    "#This code concludes that there is a statistically different mean test score in this new test compared to the national average of 75 on the previous test. \n",
    "#Because t0 is in the right tail of the distribution (i.e. is a positive number), the average test scores on the new test will be greater than 75, making this \n",
    "# new test beneficial to students. "
   ]
  },
  {
   "cell_type": "code",
   "execution_count": null,
   "id": "574642d8-d68e-4dba-8928-77d93fec88e4",
   "metadata": {},
   "outputs": [],
   "source": []
  }
 ],
 "metadata": {
  "kernelspec": {
   "display_name": "Python 3 (ipykernel)",
   "language": "python",
   "name": "python3"
  },
  "language_info": {
   "codemirror_mode": {
    "name": "ipython",
    "version": 3
   },
   "file_extension": ".py",
   "mimetype": "text/x-python",
   "name": "python",
   "nbconvert_exporter": "python",
   "pygments_lexer": "ipython3",
   "version": "3.12.8"
  }
 },
 "nbformat": 4,
 "nbformat_minor": 5
}
